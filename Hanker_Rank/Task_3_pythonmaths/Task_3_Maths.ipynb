{
 "cells": [
  {
   "cell_type": "markdown",
   "id": "21aeea4a",
   "metadata": {},
   "source": [
    "## Programming Task_3 Python Maths"
   ]
  },
  {
   "cell_type": "code",
   "execution_count": 1,
   "id": "195a9d4c",
   "metadata": {},
   "outputs": [
    {
     "name": "stdout",
     "output_type": "stream",
     "text": [
      "5\n",
      "5.0\n",
      "0.0\n"
     ]
    }
   ],
   "source": [
    "# polar_coordinates\n",
    "\n",
    "import cmath\n",
    "\n",
    "z = complex(input())\n",
    "\n",
    "r = abs(z)\n",
    "phi = cmath.phase(z)\n",
    "\n",
    "print(r)\n",
    "print(phi)"
   ]
  },
  {
   "cell_type": "code",
   "execution_count": 3,
   "id": "bcce2307",
   "metadata": {},
   "outputs": [
    {
     "name": "stdout",
     "output_type": "stream",
     "text": [
      "4\n",
      "1\n",
      "121\n",
      "12321\n",
      "1234321\n"
     ]
    }
   ],
   "source": [
    "#Triangle Quest 2\n",
    "\n",
    "for i in range(1, int(input())+1):\n",
    "    print(((10**i)//9)**2)"
   ]
  },
  {
   "cell_type": "code",
   "execution_count": 4,
   "id": "67113624",
   "metadata": {},
   "outputs": [
    {
     "name": "stdout",
     "output_type": "stream",
     "text": [
      "5\n",
      "5\n",
      "1\n",
      "0\n",
      "(1, 0)\n"
     ]
    }
   ],
   "source": [
    "# mod_divmod\n",
    "\n",
    "A = int(input())\n",
    "B = int(input())\n",
    "\n",
    "print(A//B)\n",
    "print(A%B)\n",
    "print(divmod(A, B))"
   ]
  },
  {
   "cell_type": "code",
   "execution_count": 5,
   "id": "bfd1d44d",
   "metadata": {},
   "outputs": [
    {
     "name": "stdout",
     "output_type": "stream",
     "text": [
      "55\n",
      "5\n",
      "5\n",
      "503284375\n",
      "0\n"
     ]
    }
   ],
   "source": [
    "# mod power\n",
    "\n",
    "import math\n",
    "\n",
    "a = int(input())\n",
    "b = int(input())\n",
    "m = int(input())\n",
    "\n",
    "c = math.pow(a, b)\n",
    "d = c%m\n",
    "\n",
    "print(int(c))\n",
    "print(int(d))"
   ]
  },
  {
   "cell_type": "code",
   "execution_count": 6,
   "id": "d198d5e4",
   "metadata": {},
   "outputs": [
    {
     "name": "stdout",
     "output_type": "stream",
     "text": [
      "4\n",
      "4\n",
      "4\n",
      "4\n",
      "512\n"
     ]
    }
   ],
   "source": [
    "# integers come in all sizes\n",
    "\n",
    "a = int(input())\n",
    "b = int(input())\n",
    "c = int(input())\n",
    "d = int(input())\n",
    "\n",
    "print((a**b)+(c**d))"
   ]
  },
  {
   "cell_type": "code",
   "execution_count": 7,
   "id": "d4d86414",
   "metadata": {},
   "outputs": [
    {
     "name": "stdout",
     "output_type": "stream",
     "text": [
      "4\n",
      "1\n",
      "22\n",
      "333\n"
     ]
    }
   ],
   "source": [
    "# triangle_quest\n",
    "\n",
    "for i in range(1, int(input())):\n",
    "    print((10**(i)//9)*i)"
   ]
  },
  {
   "cell_type": "code",
   "execution_count": null,
   "id": "36faea6a",
   "metadata": {},
   "outputs": [],
   "source": []
  }
 ],
 "metadata": {
  "kernelspec": {
   "display_name": "Python 3 (ipykernel)",
   "language": "python",
   "name": "python3"
  },
  "language_info": {
   "codemirror_mode": {
    "name": "ipython",
    "version": 3
   },
   "file_extension": ".py",
   "mimetype": "text/x-python",
   "name": "python",
   "nbconvert_exporter": "python",
   "pygments_lexer": "ipython3",
   "version": "3.9.6"
  }
 },
 "nbformat": 4,
 "nbformat_minor": 5
}
