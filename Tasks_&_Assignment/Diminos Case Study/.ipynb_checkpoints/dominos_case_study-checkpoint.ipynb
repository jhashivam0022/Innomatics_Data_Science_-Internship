{
 "cells": [
  {
   "cell_type": "markdown",
   "id": "55de36e9",
   "metadata": {},
   "source": [
    "## Task_2 Dominos Store - Delivery Time"
   ]
  },
  {
   "cell_type": "code",
   "execution_count": 1,
   "id": "facfb80e",
   "metadata": {},
   "outputs": [],
   "source": [
    "import pandas as pd\n",
    "import numpy as np"
   ]
  },
  {
   "cell_type": "code",
   "execution_count": 2,
   "id": "dc9c9b78",
   "metadata": {},
   "outputs": [
    {
     "data": {
      "text/html": [
       "<div>\n",
       "<style scoped>\n",
       "    .dataframe tbody tr th:only-of-type {\n",
       "        vertical-align: middle;\n",
       "    }\n",
       "\n",
       "    .dataframe tbody tr th {\n",
       "        vertical-align: top;\n",
       "    }\n",
       "\n",
       "    .dataframe thead th {\n",
       "        text-align: right;\n",
       "    }\n",
       "</style>\n",
       "<table border=\"1\" class=\"dataframe\">\n",
       "  <thead>\n",
       "    <tr style=\"text-align: right;\">\n",
       "      <th></th>\n",
       "      <th>order_id</th>\n",
       "      <th>order_placed_at</th>\n",
       "      <th>order_delivered_at</th>\n",
       "    </tr>\n",
       "  </thead>\n",
       "  <tbody>\n",
       "    <tr>\n",
       "      <th>0</th>\n",
       "      <td>1523111</td>\n",
       "      <td>2023-03-01 00:00:59</td>\n",
       "      <td>2023-03-01 00:18:07.443132</td>\n",
       "    </tr>\n",
       "    <tr>\n",
       "      <th>1</th>\n",
       "      <td>1523112</td>\n",
       "      <td>2023-03-01 00:03:59</td>\n",
       "      <td>2023-03-01 00:19:34.925241</td>\n",
       "    </tr>\n",
       "    <tr>\n",
       "      <th>2</th>\n",
       "      <td>1523113</td>\n",
       "      <td>2023-03-01 00:07:22</td>\n",
       "      <td>2023-03-01 00:22:28.291385</td>\n",
       "    </tr>\n",
       "    <tr>\n",
       "      <th>3</th>\n",
       "      <td>1523114</td>\n",
       "      <td>2023-03-01 00:07:47</td>\n",
       "      <td>2023-03-01 00:46:19.019399</td>\n",
       "    </tr>\n",
       "    <tr>\n",
       "      <th>4</th>\n",
       "      <td>1523115</td>\n",
       "      <td>2023-03-01 00:09:03</td>\n",
       "      <td>2023-03-01 00:25:13.619056</td>\n",
       "    </tr>\n",
       "  </tbody>\n",
       "</table>\n",
       "</div>"
      ],
      "text/plain": [
       "   order_id      order_placed_at          order_delivered_at\n",
       "0   1523111  2023-03-01 00:00:59  2023-03-01 00:18:07.443132\n",
       "1   1523112  2023-03-01 00:03:59  2023-03-01 00:19:34.925241\n",
       "2   1523113  2023-03-01 00:07:22  2023-03-01 00:22:28.291385\n",
       "3   1523114  2023-03-01 00:07:47  2023-03-01 00:46:19.019399\n",
       "4   1523115  2023-03-01 00:09:03  2023-03-01 00:25:13.619056"
      ]
     },
     "execution_count": 2,
     "metadata": {},
     "output_type": "execute_result"
    }
   ],
   "source": [
    "df=pd.read_csv(\"diminos_data.csv\")\n",
    "df.head()"
   ]
  },
  {
   "cell_type": "code",
   "execution_count": 3,
   "id": "240a47ed",
   "metadata": {},
   "outputs": [
    {
     "name": "stdout",
     "output_type": "stream",
     "text": [
      "<class 'pandas.core.frame.DataFrame'>\n",
      "RangeIndex: 15000 entries, 0 to 14999\n",
      "Data columns (total 3 columns):\n",
      " #   Column              Non-Null Count  Dtype         \n",
      "---  ------              --------------  -----         \n",
      " 0   order_id            15000 non-null  int64         \n",
      " 1   order_placed_at     15000 non-null  datetime64[ns]\n",
      " 2   order_delivered_at  15000 non-null  datetime64[ns]\n",
      "dtypes: datetime64[ns](2), int64(1)\n",
      "memory usage: 351.7 KB\n"
     ]
    }
   ],
   "source": [
    "time_column = ['order_placed_at','order_delivered_at']\n",
    "for i in time_column:\n",
    "    df[i] = pd.to_datetime(df[i])\n",
    "    \n",
    "df.info()"
   ]
  },
  {
   "cell_type": "code",
   "execution_count": 4,
   "id": "e94693a3",
   "metadata": {},
   "outputs": [
    {
     "data": {
      "text/html": [
       "<div>\n",
       "<style scoped>\n",
       "    .dataframe tbody tr th:only-of-type {\n",
       "        vertical-align: middle;\n",
       "    }\n",
       "\n",
       "    .dataframe tbody tr th {\n",
       "        vertical-align: top;\n",
       "    }\n",
       "\n",
       "    .dataframe thead th {\n",
       "        text-align: right;\n",
       "    }\n",
       "</style>\n",
       "<table border=\"1\" class=\"dataframe\">\n",
       "  <thead>\n",
       "    <tr style=\"text-align: right;\">\n",
       "      <th></th>\n",
       "      <th>order_id</th>\n",
       "    </tr>\n",
       "  </thead>\n",
       "  <tbody>\n",
       "    <tr>\n",
       "      <th>count</th>\n",
       "      <td>1.500000e+04</td>\n",
       "    </tr>\n",
       "    <tr>\n",
       "      <th>mean</th>\n",
       "      <td>1.530610e+06</td>\n",
       "    </tr>\n",
       "    <tr>\n",
       "      <th>std</th>\n",
       "      <td>4.330271e+03</td>\n",
       "    </tr>\n",
       "    <tr>\n",
       "      <th>min</th>\n",
       "      <td>1.523111e+06</td>\n",
       "    </tr>\n",
       "    <tr>\n",
       "      <th>25%</th>\n",
       "      <td>1.526861e+06</td>\n",
       "    </tr>\n",
       "    <tr>\n",
       "      <th>50%</th>\n",
       "      <td>1.530610e+06</td>\n",
       "    </tr>\n",
       "    <tr>\n",
       "      <th>75%</th>\n",
       "      <td>1.534360e+06</td>\n",
       "    </tr>\n",
       "    <tr>\n",
       "      <th>max</th>\n",
       "      <td>1.538110e+06</td>\n",
       "    </tr>\n",
       "  </tbody>\n",
       "</table>\n",
       "</div>"
      ],
      "text/plain": [
       "           order_id\n",
       "count  1.500000e+04\n",
       "mean   1.530610e+06\n",
       "std    4.330271e+03\n",
       "min    1.523111e+06\n",
       "25%    1.526861e+06\n",
       "50%    1.530610e+06\n",
       "75%    1.534360e+06\n",
       "max    1.538110e+06"
      ]
     },
     "execution_count": 4,
     "metadata": {},
     "output_type": "execute_result"
    }
   ],
   "source": [
    "df.describe()"
   ]
  },
  {
   "cell_type": "code",
   "execution_count": 5,
   "id": "1fbc443b",
   "metadata": {},
   "outputs": [
    {
     "data": {
      "text/plain": [
       "(15000, 3)"
      ]
     },
     "execution_count": 5,
     "metadata": {},
     "output_type": "execute_result"
    }
   ],
   "source": [
    "df.shape"
   ]
  },
  {
   "cell_type": "code",
   "execution_count": 6,
   "id": "eb83560e",
   "metadata": {},
   "outputs": [
    {
     "data": {
      "text/plain": [
       "order_id              0\n",
       "order_placed_at       0\n",
       "order_delivered_at    0\n",
       "dtype: int64"
      ]
     },
     "execution_count": 6,
     "metadata": {},
     "output_type": "execute_result"
    }
   ],
   "source": [
    "df.isnull().sum()"
   ]
  },
  {
   "cell_type": "code",
   "execution_count": 7,
   "id": "c97c6179",
   "metadata": {},
   "outputs": [],
   "source": [
    "df['day'] = df['order_placed_at'].dt.day_name()\n",
    "df['date'] = df['order_placed_at'].dt.day\n",
    "df['month'] = df['order_placed_at'].dt.month_name()\n",
    "df['year'] = df['order_placed_at'].dt.year\n",
    "df['time'] = df['order_placed_at'].dt.time"
   ]
  },
  {
   "cell_type": "code",
   "execution_count": 8,
   "id": "350df01f",
   "metadata": {},
   "outputs": [
    {
     "data": {
      "text/html": [
       "<div>\n",
       "<style scoped>\n",
       "    .dataframe tbody tr th:only-of-type {\n",
       "        vertical-align: middle;\n",
       "    }\n",
       "\n",
       "    .dataframe tbody tr th {\n",
       "        vertical-align: top;\n",
       "    }\n",
       "\n",
       "    .dataframe thead th {\n",
       "        text-align: right;\n",
       "    }\n",
       "</style>\n",
       "<table border=\"1\" class=\"dataframe\">\n",
       "  <thead>\n",
       "    <tr style=\"text-align: right;\">\n",
       "      <th></th>\n",
       "      <th>order_id</th>\n",
       "      <th>order_placed_at</th>\n",
       "      <th>order_delivered_at</th>\n",
       "      <th>day</th>\n",
       "      <th>date</th>\n",
       "      <th>month</th>\n",
       "      <th>year</th>\n",
       "      <th>time</th>\n",
       "    </tr>\n",
       "  </thead>\n",
       "  <tbody>\n",
       "    <tr>\n",
       "      <th>0</th>\n",
       "      <td>1523111</td>\n",
       "      <td>2023-03-01 00:00:59</td>\n",
       "      <td>2023-03-01 00:18:07.443132</td>\n",
       "      <td>Wednesday</td>\n",
       "      <td>1</td>\n",
       "      <td>March</td>\n",
       "      <td>2023</td>\n",
       "      <td>00:00:59</td>\n",
       "    </tr>\n",
       "    <tr>\n",
       "      <th>1</th>\n",
       "      <td>1523112</td>\n",
       "      <td>2023-03-01 00:03:59</td>\n",
       "      <td>2023-03-01 00:19:34.925241</td>\n",
       "      <td>Wednesday</td>\n",
       "      <td>1</td>\n",
       "      <td>March</td>\n",
       "      <td>2023</td>\n",
       "      <td>00:03:59</td>\n",
       "    </tr>\n",
       "    <tr>\n",
       "      <th>2</th>\n",
       "      <td>1523113</td>\n",
       "      <td>2023-03-01 00:07:22</td>\n",
       "      <td>2023-03-01 00:22:28.291385</td>\n",
       "      <td>Wednesday</td>\n",
       "      <td>1</td>\n",
       "      <td>March</td>\n",
       "      <td>2023</td>\n",
       "      <td>00:07:22</td>\n",
       "    </tr>\n",
       "    <tr>\n",
       "      <th>3</th>\n",
       "      <td>1523114</td>\n",
       "      <td>2023-03-01 00:07:47</td>\n",
       "      <td>2023-03-01 00:46:19.019399</td>\n",
       "      <td>Wednesday</td>\n",
       "      <td>1</td>\n",
       "      <td>March</td>\n",
       "      <td>2023</td>\n",
       "      <td>00:07:47</td>\n",
       "    </tr>\n",
       "    <tr>\n",
       "      <th>4</th>\n",
       "      <td>1523115</td>\n",
       "      <td>2023-03-01 00:09:03</td>\n",
       "      <td>2023-03-01 00:25:13.619056</td>\n",
       "      <td>Wednesday</td>\n",
       "      <td>1</td>\n",
       "      <td>March</td>\n",
       "      <td>2023</td>\n",
       "      <td>00:09:03</td>\n",
       "    </tr>\n",
       "    <tr>\n",
       "      <th>...</th>\n",
       "      <td>...</td>\n",
       "      <td>...</td>\n",
       "      <td>...</td>\n",
       "      <td>...</td>\n",
       "      <td>...</td>\n",
       "      <td>...</td>\n",
       "      <td>...</td>\n",
       "      <td>...</td>\n",
       "    </tr>\n",
       "    <tr>\n",
       "      <th>14995</th>\n",
       "      <td>1538106</td>\n",
       "      <td>2023-03-27 23:37:05</td>\n",
       "      <td>2023-03-27 23:52:37.409378</td>\n",
       "      <td>Monday</td>\n",
       "      <td>27</td>\n",
       "      <td>March</td>\n",
       "      <td>2023</td>\n",
       "      <td>23:37:05</td>\n",
       "    </tr>\n",
       "    <tr>\n",
       "      <th>14996</th>\n",
       "      <td>1538107</td>\n",
       "      <td>2023-03-27 23:47:38</td>\n",
       "      <td>2023-03-28 00:04:22.672912</td>\n",
       "      <td>Monday</td>\n",
       "      <td>27</td>\n",
       "      <td>March</td>\n",
       "      <td>2023</td>\n",
       "      <td>23:47:38</td>\n",
       "    </tr>\n",
       "    <tr>\n",
       "      <th>14997</th>\n",
       "      <td>1538108</td>\n",
       "      <td>2023-03-27 23:50:16</td>\n",
       "      <td>2023-03-28 00:05:40.676238</td>\n",
       "      <td>Monday</td>\n",
       "      <td>27</td>\n",
       "      <td>March</td>\n",
       "      <td>2023</td>\n",
       "      <td>23:50:16</td>\n",
       "    </tr>\n",
       "    <tr>\n",
       "      <th>14998</th>\n",
       "      <td>1538109</td>\n",
       "      <td>2023-03-27 23:52:44</td>\n",
       "      <td>2023-03-28 00:08:41.810358</td>\n",
       "      <td>Monday</td>\n",
       "      <td>27</td>\n",
       "      <td>March</td>\n",
       "      <td>2023</td>\n",
       "      <td>23:52:44</td>\n",
       "    </tr>\n",
       "    <tr>\n",
       "      <th>14999</th>\n",
       "      <td>1538110</td>\n",
       "      <td>2023-03-27 23:58:20</td>\n",
       "      <td>2023-03-28 00:13:42.499311</td>\n",
       "      <td>Monday</td>\n",
       "      <td>27</td>\n",
       "      <td>March</td>\n",
       "      <td>2023</td>\n",
       "      <td>23:58:20</td>\n",
       "    </tr>\n",
       "  </tbody>\n",
       "</table>\n",
       "<p>15000 rows × 8 columns</p>\n",
       "</div>"
      ],
      "text/plain": [
       "       order_id     order_placed_at         order_delivered_at        day  \\\n",
       "0       1523111 2023-03-01 00:00:59 2023-03-01 00:18:07.443132  Wednesday   \n",
       "1       1523112 2023-03-01 00:03:59 2023-03-01 00:19:34.925241  Wednesday   \n",
       "2       1523113 2023-03-01 00:07:22 2023-03-01 00:22:28.291385  Wednesday   \n",
       "3       1523114 2023-03-01 00:07:47 2023-03-01 00:46:19.019399  Wednesday   \n",
       "4       1523115 2023-03-01 00:09:03 2023-03-01 00:25:13.619056  Wednesday   \n",
       "...         ...                 ...                        ...        ...   \n",
       "14995   1538106 2023-03-27 23:37:05 2023-03-27 23:52:37.409378     Monday   \n",
       "14996   1538107 2023-03-27 23:47:38 2023-03-28 00:04:22.672912     Monday   \n",
       "14997   1538108 2023-03-27 23:50:16 2023-03-28 00:05:40.676238     Monday   \n",
       "14998   1538109 2023-03-27 23:52:44 2023-03-28 00:08:41.810358     Monday   \n",
       "14999   1538110 2023-03-27 23:58:20 2023-03-28 00:13:42.499311     Monday   \n",
       "\n",
       "       date  month  year      time  \n",
       "0         1  March  2023  00:00:59  \n",
       "1         1  March  2023  00:03:59  \n",
       "2         1  March  2023  00:07:22  \n",
       "3         1  March  2023  00:07:47  \n",
       "4         1  March  2023  00:09:03  \n",
       "...     ...    ...   ...       ...  \n",
       "14995    27  March  2023  23:37:05  \n",
       "14996    27  March  2023  23:47:38  \n",
       "14997    27  March  2023  23:50:16  \n",
       "14998    27  March  2023  23:52:44  \n",
       "14999    27  March  2023  23:58:20  \n",
       "\n",
       "[15000 rows x 8 columns]"
      ]
     },
     "execution_count": 8,
     "metadata": {},
     "output_type": "execute_result"
    }
   ],
   "source": [
    "df"
   ]
  },
  {
   "cell_type": "code",
   "execution_count": 9,
   "id": "caa12308",
   "metadata": {},
   "outputs": [],
   "source": [
    "df['delivery_min'] = df['order_delivered_at'] - df['order_placed_at']"
   ]
  },
  {
   "cell_type": "code",
   "execution_count": 10,
   "id": "109047ae",
   "metadata": {},
   "outputs": [
    {
     "data": {
      "text/html": [
       "<div>\n",
       "<style scoped>\n",
       "    .dataframe tbody tr th:only-of-type {\n",
       "        vertical-align: middle;\n",
       "    }\n",
       "\n",
       "    .dataframe tbody tr th {\n",
       "        vertical-align: top;\n",
       "    }\n",
       "\n",
       "    .dataframe thead th {\n",
       "        text-align: right;\n",
       "    }\n",
       "</style>\n",
       "<table border=\"1\" class=\"dataframe\">\n",
       "  <thead>\n",
       "    <tr style=\"text-align: right;\">\n",
       "      <th></th>\n",
       "      <th>order_id</th>\n",
       "      <th>order_placed_at</th>\n",
       "      <th>order_delivered_at</th>\n",
       "      <th>day</th>\n",
       "      <th>date</th>\n",
       "      <th>month</th>\n",
       "      <th>year</th>\n",
       "      <th>time</th>\n",
       "      <th>delivery_min</th>\n",
       "    </tr>\n",
       "  </thead>\n",
       "  <tbody>\n",
       "    <tr>\n",
       "      <th>0</th>\n",
       "      <td>1523111</td>\n",
       "      <td>2023-03-01 00:00:59</td>\n",
       "      <td>2023-03-01 00:18:07.443132</td>\n",
       "      <td>Wednesday</td>\n",
       "      <td>1</td>\n",
       "      <td>March</td>\n",
       "      <td>2023</td>\n",
       "      <td>00:00:59</td>\n",
       "      <td>0 days 00:17:08.443132</td>\n",
       "    </tr>\n",
       "    <tr>\n",
       "      <th>1</th>\n",
       "      <td>1523112</td>\n",
       "      <td>2023-03-01 00:03:59</td>\n",
       "      <td>2023-03-01 00:19:34.925241</td>\n",
       "      <td>Wednesday</td>\n",
       "      <td>1</td>\n",
       "      <td>March</td>\n",
       "      <td>2023</td>\n",
       "      <td>00:03:59</td>\n",
       "      <td>0 days 00:15:35.925241</td>\n",
       "    </tr>\n",
       "    <tr>\n",
       "      <th>2</th>\n",
       "      <td>1523113</td>\n",
       "      <td>2023-03-01 00:07:22</td>\n",
       "      <td>2023-03-01 00:22:28.291385</td>\n",
       "      <td>Wednesday</td>\n",
       "      <td>1</td>\n",
       "      <td>March</td>\n",
       "      <td>2023</td>\n",
       "      <td>00:07:22</td>\n",
       "      <td>0 days 00:15:06.291385</td>\n",
       "    </tr>\n",
       "    <tr>\n",
       "      <th>3</th>\n",
       "      <td>1523114</td>\n",
       "      <td>2023-03-01 00:07:47</td>\n",
       "      <td>2023-03-01 00:46:19.019399</td>\n",
       "      <td>Wednesday</td>\n",
       "      <td>1</td>\n",
       "      <td>March</td>\n",
       "      <td>2023</td>\n",
       "      <td>00:07:47</td>\n",
       "      <td>0 days 00:38:32.019399</td>\n",
       "    </tr>\n",
       "    <tr>\n",
       "      <th>4</th>\n",
       "      <td>1523115</td>\n",
       "      <td>2023-03-01 00:09:03</td>\n",
       "      <td>2023-03-01 00:25:13.619056</td>\n",
       "      <td>Wednesday</td>\n",
       "      <td>1</td>\n",
       "      <td>March</td>\n",
       "      <td>2023</td>\n",
       "      <td>00:09:03</td>\n",
       "      <td>0 days 00:16:10.619056</td>\n",
       "    </tr>\n",
       "    <tr>\n",
       "      <th>...</th>\n",
       "      <td>...</td>\n",
       "      <td>...</td>\n",
       "      <td>...</td>\n",
       "      <td>...</td>\n",
       "      <td>...</td>\n",
       "      <td>...</td>\n",
       "      <td>...</td>\n",
       "      <td>...</td>\n",
       "      <td>...</td>\n",
       "    </tr>\n",
       "    <tr>\n",
       "      <th>14995</th>\n",
       "      <td>1538106</td>\n",
       "      <td>2023-03-27 23:37:05</td>\n",
       "      <td>2023-03-27 23:52:37.409378</td>\n",
       "      <td>Monday</td>\n",
       "      <td>27</td>\n",
       "      <td>March</td>\n",
       "      <td>2023</td>\n",
       "      <td>23:37:05</td>\n",
       "      <td>0 days 00:15:32.409378</td>\n",
       "    </tr>\n",
       "    <tr>\n",
       "      <th>14996</th>\n",
       "      <td>1538107</td>\n",
       "      <td>2023-03-27 23:47:38</td>\n",
       "      <td>2023-03-28 00:04:22.672912</td>\n",
       "      <td>Monday</td>\n",
       "      <td>27</td>\n",
       "      <td>March</td>\n",
       "      <td>2023</td>\n",
       "      <td>23:47:38</td>\n",
       "      <td>0 days 00:16:44.672912</td>\n",
       "    </tr>\n",
       "    <tr>\n",
       "      <th>14997</th>\n",
       "      <td>1538108</td>\n",
       "      <td>2023-03-27 23:50:16</td>\n",
       "      <td>2023-03-28 00:05:40.676238</td>\n",
       "      <td>Monday</td>\n",
       "      <td>27</td>\n",
       "      <td>March</td>\n",
       "      <td>2023</td>\n",
       "      <td>23:50:16</td>\n",
       "      <td>0 days 00:15:24.676238</td>\n",
       "    </tr>\n",
       "    <tr>\n",
       "      <th>14998</th>\n",
       "      <td>1538109</td>\n",
       "      <td>2023-03-27 23:52:44</td>\n",
       "      <td>2023-03-28 00:08:41.810358</td>\n",
       "      <td>Monday</td>\n",
       "      <td>27</td>\n",
       "      <td>March</td>\n",
       "      <td>2023</td>\n",
       "      <td>23:52:44</td>\n",
       "      <td>0 days 00:15:57.810358</td>\n",
       "    </tr>\n",
       "    <tr>\n",
       "      <th>14999</th>\n",
       "      <td>1538110</td>\n",
       "      <td>2023-03-27 23:58:20</td>\n",
       "      <td>2023-03-28 00:13:42.499311</td>\n",
       "      <td>Monday</td>\n",
       "      <td>27</td>\n",
       "      <td>March</td>\n",
       "      <td>2023</td>\n",
       "      <td>23:58:20</td>\n",
       "      <td>0 days 00:15:22.499311</td>\n",
       "    </tr>\n",
       "  </tbody>\n",
       "</table>\n",
       "<p>15000 rows × 9 columns</p>\n",
       "</div>"
      ],
      "text/plain": [
       "       order_id     order_placed_at         order_delivered_at        day  \\\n",
       "0       1523111 2023-03-01 00:00:59 2023-03-01 00:18:07.443132  Wednesday   \n",
       "1       1523112 2023-03-01 00:03:59 2023-03-01 00:19:34.925241  Wednesday   \n",
       "2       1523113 2023-03-01 00:07:22 2023-03-01 00:22:28.291385  Wednesday   \n",
       "3       1523114 2023-03-01 00:07:47 2023-03-01 00:46:19.019399  Wednesday   \n",
       "4       1523115 2023-03-01 00:09:03 2023-03-01 00:25:13.619056  Wednesday   \n",
       "...         ...                 ...                        ...        ...   \n",
       "14995   1538106 2023-03-27 23:37:05 2023-03-27 23:52:37.409378     Monday   \n",
       "14996   1538107 2023-03-27 23:47:38 2023-03-28 00:04:22.672912     Monday   \n",
       "14997   1538108 2023-03-27 23:50:16 2023-03-28 00:05:40.676238     Monday   \n",
       "14998   1538109 2023-03-27 23:52:44 2023-03-28 00:08:41.810358     Monday   \n",
       "14999   1538110 2023-03-27 23:58:20 2023-03-28 00:13:42.499311     Monday   \n",
       "\n",
       "       date  month  year      time           delivery_min  \n",
       "0         1  March  2023  00:00:59 0 days 00:17:08.443132  \n",
       "1         1  March  2023  00:03:59 0 days 00:15:35.925241  \n",
       "2         1  March  2023  00:07:22 0 days 00:15:06.291385  \n",
       "3         1  March  2023  00:07:47 0 days 00:38:32.019399  \n",
       "4         1  March  2023  00:09:03 0 days 00:16:10.619056  \n",
       "...     ...    ...   ...       ...                    ...  \n",
       "14995    27  March  2023  23:37:05 0 days 00:15:32.409378  \n",
       "14996    27  March  2023  23:47:38 0 days 00:16:44.672912  \n",
       "14997    27  March  2023  23:50:16 0 days 00:15:24.676238  \n",
       "14998    27  March  2023  23:52:44 0 days 00:15:57.810358  \n",
       "14999    27  March  2023  23:58:20 0 days 00:15:22.499311  \n",
       "\n",
       "[15000 rows x 9 columns]"
      ]
     },
     "execution_count": 10,
     "metadata": {},
     "output_type": "execute_result"
    }
   ],
   "source": [
    "df"
   ]
  },
  {
   "cell_type": "code",
   "execution_count": 11,
   "id": "81e128ce",
   "metadata": {},
   "outputs": [],
   "source": [
    "df['delivery_min'] = df['delivery_min'].dt.total_seconds() / 60"
   ]
  },
  {
   "cell_type": "code",
   "execution_count": 12,
   "id": "a8b2622d",
   "metadata": {},
   "outputs": [
    {
     "data": {
      "text/html": [
       "<div>\n",
       "<style scoped>\n",
       "    .dataframe tbody tr th:only-of-type {\n",
       "        vertical-align: middle;\n",
       "    }\n",
       "\n",
       "    .dataframe tbody tr th {\n",
       "        vertical-align: top;\n",
       "    }\n",
       "\n",
       "    .dataframe thead th {\n",
       "        text-align: right;\n",
       "    }\n",
       "</style>\n",
       "<table border=\"1\" class=\"dataframe\">\n",
       "  <thead>\n",
       "    <tr style=\"text-align: right;\">\n",
       "      <th></th>\n",
       "      <th>order_id</th>\n",
       "      <th>order_placed_at</th>\n",
       "      <th>order_delivered_at</th>\n",
       "      <th>day</th>\n",
       "      <th>date</th>\n",
       "      <th>month</th>\n",
       "      <th>year</th>\n",
       "      <th>time</th>\n",
       "      <th>delivery_min</th>\n",
       "    </tr>\n",
       "  </thead>\n",
       "  <tbody>\n",
       "    <tr>\n",
       "      <th>0</th>\n",
       "      <td>1523111</td>\n",
       "      <td>2023-03-01 00:00:59</td>\n",
       "      <td>2023-03-01 00:18:07.443132</td>\n",
       "      <td>Wednesday</td>\n",
       "      <td>1</td>\n",
       "      <td>March</td>\n",
       "      <td>2023</td>\n",
       "      <td>00:00:59</td>\n",
       "      <td>17.140719</td>\n",
       "    </tr>\n",
       "    <tr>\n",
       "      <th>1</th>\n",
       "      <td>1523112</td>\n",
       "      <td>2023-03-01 00:03:59</td>\n",
       "      <td>2023-03-01 00:19:34.925241</td>\n",
       "      <td>Wednesday</td>\n",
       "      <td>1</td>\n",
       "      <td>March</td>\n",
       "      <td>2023</td>\n",
       "      <td>00:03:59</td>\n",
       "      <td>15.598754</td>\n",
       "    </tr>\n",
       "    <tr>\n",
       "      <th>2</th>\n",
       "      <td>1523113</td>\n",
       "      <td>2023-03-01 00:07:22</td>\n",
       "      <td>2023-03-01 00:22:28.291385</td>\n",
       "      <td>Wednesday</td>\n",
       "      <td>1</td>\n",
       "      <td>March</td>\n",
       "      <td>2023</td>\n",
       "      <td>00:07:22</td>\n",
       "      <td>15.104856</td>\n",
       "    </tr>\n",
       "    <tr>\n",
       "      <th>3</th>\n",
       "      <td>1523114</td>\n",
       "      <td>2023-03-01 00:07:47</td>\n",
       "      <td>2023-03-01 00:46:19.019399</td>\n",
       "      <td>Wednesday</td>\n",
       "      <td>1</td>\n",
       "      <td>March</td>\n",
       "      <td>2023</td>\n",
       "      <td>00:07:47</td>\n",
       "      <td>38.533657</td>\n",
       "    </tr>\n",
       "    <tr>\n",
       "      <th>4</th>\n",
       "      <td>1523115</td>\n",
       "      <td>2023-03-01 00:09:03</td>\n",
       "      <td>2023-03-01 00:25:13.619056</td>\n",
       "      <td>Wednesday</td>\n",
       "      <td>1</td>\n",
       "      <td>March</td>\n",
       "      <td>2023</td>\n",
       "      <td>00:09:03</td>\n",
       "      <td>16.176984</td>\n",
       "    </tr>\n",
       "    <tr>\n",
       "      <th>...</th>\n",
       "      <td>...</td>\n",
       "      <td>...</td>\n",
       "      <td>...</td>\n",
       "      <td>...</td>\n",
       "      <td>...</td>\n",
       "      <td>...</td>\n",
       "      <td>...</td>\n",
       "      <td>...</td>\n",
       "      <td>...</td>\n",
       "    </tr>\n",
       "    <tr>\n",
       "      <th>14995</th>\n",
       "      <td>1538106</td>\n",
       "      <td>2023-03-27 23:37:05</td>\n",
       "      <td>2023-03-27 23:52:37.409378</td>\n",
       "      <td>Monday</td>\n",
       "      <td>27</td>\n",
       "      <td>March</td>\n",
       "      <td>2023</td>\n",
       "      <td>23:37:05</td>\n",
       "      <td>15.540156</td>\n",
       "    </tr>\n",
       "    <tr>\n",
       "      <th>14996</th>\n",
       "      <td>1538107</td>\n",
       "      <td>2023-03-27 23:47:38</td>\n",
       "      <td>2023-03-28 00:04:22.672912</td>\n",
       "      <td>Monday</td>\n",
       "      <td>27</td>\n",
       "      <td>March</td>\n",
       "      <td>2023</td>\n",
       "      <td>23:47:38</td>\n",
       "      <td>16.744549</td>\n",
       "    </tr>\n",
       "    <tr>\n",
       "      <th>14997</th>\n",
       "      <td>1538108</td>\n",
       "      <td>2023-03-27 23:50:16</td>\n",
       "      <td>2023-03-28 00:05:40.676238</td>\n",
       "      <td>Monday</td>\n",
       "      <td>27</td>\n",
       "      <td>March</td>\n",
       "      <td>2023</td>\n",
       "      <td>23:50:16</td>\n",
       "      <td>15.411271</td>\n",
       "    </tr>\n",
       "    <tr>\n",
       "      <th>14998</th>\n",
       "      <td>1538109</td>\n",
       "      <td>2023-03-27 23:52:44</td>\n",
       "      <td>2023-03-28 00:08:41.810358</td>\n",
       "      <td>Monday</td>\n",
       "      <td>27</td>\n",
       "      <td>March</td>\n",
       "      <td>2023</td>\n",
       "      <td>23:52:44</td>\n",
       "      <td>15.963506</td>\n",
       "    </tr>\n",
       "    <tr>\n",
       "      <th>14999</th>\n",
       "      <td>1538110</td>\n",
       "      <td>2023-03-27 23:58:20</td>\n",
       "      <td>2023-03-28 00:13:42.499311</td>\n",
       "      <td>Monday</td>\n",
       "      <td>27</td>\n",
       "      <td>March</td>\n",
       "      <td>2023</td>\n",
       "      <td>23:58:20</td>\n",
       "      <td>15.374989</td>\n",
       "    </tr>\n",
       "  </tbody>\n",
       "</table>\n",
       "<p>15000 rows × 9 columns</p>\n",
       "</div>"
      ],
      "text/plain": [
       "       order_id     order_placed_at         order_delivered_at        day  \\\n",
       "0       1523111 2023-03-01 00:00:59 2023-03-01 00:18:07.443132  Wednesday   \n",
       "1       1523112 2023-03-01 00:03:59 2023-03-01 00:19:34.925241  Wednesday   \n",
       "2       1523113 2023-03-01 00:07:22 2023-03-01 00:22:28.291385  Wednesday   \n",
       "3       1523114 2023-03-01 00:07:47 2023-03-01 00:46:19.019399  Wednesday   \n",
       "4       1523115 2023-03-01 00:09:03 2023-03-01 00:25:13.619056  Wednesday   \n",
       "...         ...                 ...                        ...        ...   \n",
       "14995   1538106 2023-03-27 23:37:05 2023-03-27 23:52:37.409378     Monday   \n",
       "14996   1538107 2023-03-27 23:47:38 2023-03-28 00:04:22.672912     Monday   \n",
       "14997   1538108 2023-03-27 23:50:16 2023-03-28 00:05:40.676238     Monday   \n",
       "14998   1538109 2023-03-27 23:52:44 2023-03-28 00:08:41.810358     Monday   \n",
       "14999   1538110 2023-03-27 23:58:20 2023-03-28 00:13:42.499311     Monday   \n",
       "\n",
       "       date  month  year      time  delivery_min  \n",
       "0         1  March  2023  00:00:59     17.140719  \n",
       "1         1  March  2023  00:03:59     15.598754  \n",
       "2         1  March  2023  00:07:22     15.104856  \n",
       "3         1  March  2023  00:07:47     38.533657  \n",
       "4         1  March  2023  00:09:03     16.176984  \n",
       "...     ...    ...   ...       ...           ...  \n",
       "14995    27  March  2023  23:37:05     15.540156  \n",
       "14996    27  March  2023  23:47:38     16.744549  \n",
       "14997    27  March  2023  23:50:16     15.411271  \n",
       "14998    27  March  2023  23:52:44     15.963506  \n",
       "14999    27  March  2023  23:58:20     15.374989  \n",
       "\n",
       "[15000 rows x 9 columns]"
      ]
     },
     "execution_count": 12,
     "metadata": {},
     "output_type": "execute_result"
    }
   ],
   "source": [
    "df"
   ]
  },
  {
   "cell_type": "code",
   "execution_count": 13,
   "id": "32574526",
   "metadata": {},
   "outputs": [],
   "source": [
    "df['time_period'] = df['order_placed_at'].apply(lambda x: \"4AM - 9AM\" if x.hour > 4 and x.hour <= 9 else (\"10AM - 3PM\" if x.hour > 10 and x.hour <= 15 else (\"4PM - 9PM\" if x.hour > 16 and x.hour <= 21 else \"10PM - 3AM\")))"
   ]
  },
  {
   "cell_type": "code",
   "execution_count": 14,
   "id": "296e2a64",
   "metadata": {},
   "outputs": [
    {
     "data": {
      "text/html": [
       "<div>\n",
       "<style scoped>\n",
       "    .dataframe tbody tr th:only-of-type {\n",
       "        vertical-align: middle;\n",
       "    }\n",
       "\n",
       "    .dataframe tbody tr th {\n",
       "        vertical-align: top;\n",
       "    }\n",
       "\n",
       "    .dataframe thead th {\n",
       "        text-align: right;\n",
       "    }\n",
       "</style>\n",
       "<table border=\"1\" class=\"dataframe\">\n",
       "  <thead>\n",
       "    <tr style=\"text-align: right;\">\n",
       "      <th></th>\n",
       "      <th>order_id</th>\n",
       "      <th>order_placed_at</th>\n",
       "      <th>order_delivered_at</th>\n",
       "      <th>day</th>\n",
       "      <th>date</th>\n",
       "      <th>month</th>\n",
       "      <th>year</th>\n",
       "      <th>time</th>\n",
       "      <th>delivery_min</th>\n",
       "      <th>time_period</th>\n",
       "    </tr>\n",
       "  </thead>\n",
       "  <tbody>\n",
       "    <tr>\n",
       "      <th>0</th>\n",
       "      <td>1523111</td>\n",
       "      <td>2023-03-01 00:00:59</td>\n",
       "      <td>2023-03-01 00:18:07.443132</td>\n",
       "      <td>Wednesday</td>\n",
       "      <td>1</td>\n",
       "      <td>March</td>\n",
       "      <td>2023</td>\n",
       "      <td>00:00:59</td>\n",
       "      <td>17.140719</td>\n",
       "      <td>10PM - 3AM</td>\n",
       "    </tr>\n",
       "    <tr>\n",
       "      <th>1</th>\n",
       "      <td>1523112</td>\n",
       "      <td>2023-03-01 00:03:59</td>\n",
       "      <td>2023-03-01 00:19:34.925241</td>\n",
       "      <td>Wednesday</td>\n",
       "      <td>1</td>\n",
       "      <td>March</td>\n",
       "      <td>2023</td>\n",
       "      <td>00:03:59</td>\n",
       "      <td>15.598754</td>\n",
       "      <td>10PM - 3AM</td>\n",
       "    </tr>\n",
       "    <tr>\n",
       "      <th>2</th>\n",
       "      <td>1523113</td>\n",
       "      <td>2023-03-01 00:07:22</td>\n",
       "      <td>2023-03-01 00:22:28.291385</td>\n",
       "      <td>Wednesday</td>\n",
       "      <td>1</td>\n",
       "      <td>March</td>\n",
       "      <td>2023</td>\n",
       "      <td>00:07:22</td>\n",
       "      <td>15.104856</td>\n",
       "      <td>10PM - 3AM</td>\n",
       "    </tr>\n",
       "    <tr>\n",
       "      <th>3</th>\n",
       "      <td>1523114</td>\n",
       "      <td>2023-03-01 00:07:47</td>\n",
       "      <td>2023-03-01 00:46:19.019399</td>\n",
       "      <td>Wednesday</td>\n",
       "      <td>1</td>\n",
       "      <td>March</td>\n",
       "      <td>2023</td>\n",
       "      <td>00:07:47</td>\n",
       "      <td>38.533657</td>\n",
       "      <td>10PM - 3AM</td>\n",
       "    </tr>\n",
       "    <tr>\n",
       "      <th>4</th>\n",
       "      <td>1523115</td>\n",
       "      <td>2023-03-01 00:09:03</td>\n",
       "      <td>2023-03-01 00:25:13.619056</td>\n",
       "      <td>Wednesday</td>\n",
       "      <td>1</td>\n",
       "      <td>March</td>\n",
       "      <td>2023</td>\n",
       "      <td>00:09:03</td>\n",
       "      <td>16.176984</td>\n",
       "      <td>10PM - 3AM</td>\n",
       "    </tr>\n",
       "    <tr>\n",
       "      <th>...</th>\n",
       "      <td>...</td>\n",
       "      <td>...</td>\n",
       "      <td>...</td>\n",
       "      <td>...</td>\n",
       "      <td>...</td>\n",
       "      <td>...</td>\n",
       "      <td>...</td>\n",
       "      <td>...</td>\n",
       "      <td>...</td>\n",
       "      <td>...</td>\n",
       "    </tr>\n",
       "    <tr>\n",
       "      <th>14995</th>\n",
       "      <td>1538106</td>\n",
       "      <td>2023-03-27 23:37:05</td>\n",
       "      <td>2023-03-27 23:52:37.409378</td>\n",
       "      <td>Monday</td>\n",
       "      <td>27</td>\n",
       "      <td>March</td>\n",
       "      <td>2023</td>\n",
       "      <td>23:37:05</td>\n",
       "      <td>15.540156</td>\n",
       "      <td>10PM - 3AM</td>\n",
       "    </tr>\n",
       "    <tr>\n",
       "      <th>14996</th>\n",
       "      <td>1538107</td>\n",
       "      <td>2023-03-27 23:47:38</td>\n",
       "      <td>2023-03-28 00:04:22.672912</td>\n",
       "      <td>Monday</td>\n",
       "      <td>27</td>\n",
       "      <td>March</td>\n",
       "      <td>2023</td>\n",
       "      <td>23:47:38</td>\n",
       "      <td>16.744549</td>\n",
       "      <td>10PM - 3AM</td>\n",
       "    </tr>\n",
       "    <tr>\n",
       "      <th>14997</th>\n",
       "      <td>1538108</td>\n",
       "      <td>2023-03-27 23:50:16</td>\n",
       "      <td>2023-03-28 00:05:40.676238</td>\n",
       "      <td>Monday</td>\n",
       "      <td>27</td>\n",
       "      <td>March</td>\n",
       "      <td>2023</td>\n",
       "      <td>23:50:16</td>\n",
       "      <td>15.411271</td>\n",
       "      <td>10PM - 3AM</td>\n",
       "    </tr>\n",
       "    <tr>\n",
       "      <th>14998</th>\n",
       "      <td>1538109</td>\n",
       "      <td>2023-03-27 23:52:44</td>\n",
       "      <td>2023-03-28 00:08:41.810358</td>\n",
       "      <td>Monday</td>\n",
       "      <td>27</td>\n",
       "      <td>March</td>\n",
       "      <td>2023</td>\n",
       "      <td>23:52:44</td>\n",
       "      <td>15.963506</td>\n",
       "      <td>10PM - 3AM</td>\n",
       "    </tr>\n",
       "    <tr>\n",
       "      <th>14999</th>\n",
       "      <td>1538110</td>\n",
       "      <td>2023-03-27 23:58:20</td>\n",
       "      <td>2023-03-28 00:13:42.499311</td>\n",
       "      <td>Monday</td>\n",
       "      <td>27</td>\n",
       "      <td>March</td>\n",
       "      <td>2023</td>\n",
       "      <td>23:58:20</td>\n",
       "      <td>15.374989</td>\n",
       "      <td>10PM - 3AM</td>\n",
       "    </tr>\n",
       "  </tbody>\n",
       "</table>\n",
       "<p>15000 rows × 10 columns</p>\n",
       "</div>"
      ],
      "text/plain": [
       "       order_id     order_placed_at         order_delivered_at        day  \\\n",
       "0       1523111 2023-03-01 00:00:59 2023-03-01 00:18:07.443132  Wednesday   \n",
       "1       1523112 2023-03-01 00:03:59 2023-03-01 00:19:34.925241  Wednesday   \n",
       "2       1523113 2023-03-01 00:07:22 2023-03-01 00:22:28.291385  Wednesday   \n",
       "3       1523114 2023-03-01 00:07:47 2023-03-01 00:46:19.019399  Wednesday   \n",
       "4       1523115 2023-03-01 00:09:03 2023-03-01 00:25:13.619056  Wednesday   \n",
       "...         ...                 ...                        ...        ...   \n",
       "14995   1538106 2023-03-27 23:37:05 2023-03-27 23:52:37.409378     Monday   \n",
       "14996   1538107 2023-03-27 23:47:38 2023-03-28 00:04:22.672912     Monday   \n",
       "14997   1538108 2023-03-27 23:50:16 2023-03-28 00:05:40.676238     Monday   \n",
       "14998   1538109 2023-03-27 23:52:44 2023-03-28 00:08:41.810358     Monday   \n",
       "14999   1538110 2023-03-27 23:58:20 2023-03-28 00:13:42.499311     Monday   \n",
       "\n",
       "       date  month  year      time  delivery_min time_period  \n",
       "0         1  March  2023  00:00:59     17.140719  10PM - 3AM  \n",
       "1         1  March  2023  00:03:59     15.598754  10PM - 3AM  \n",
       "2         1  March  2023  00:07:22     15.104856  10PM - 3AM  \n",
       "3         1  March  2023  00:07:47     38.533657  10PM - 3AM  \n",
       "4         1  March  2023  00:09:03     16.176984  10PM - 3AM  \n",
       "...     ...    ...   ...       ...           ...         ...  \n",
       "14995    27  March  2023  23:37:05     15.540156  10PM - 3AM  \n",
       "14996    27  March  2023  23:47:38     16.744549  10PM - 3AM  \n",
       "14997    27  March  2023  23:50:16     15.411271  10PM - 3AM  \n",
       "14998    27  March  2023  23:52:44     15.963506  10PM - 3AM  \n",
       "14999    27  March  2023  23:58:20     15.374989  10PM - 3AM  \n",
       "\n",
       "[15000 rows x 10 columns]"
      ]
     },
     "execution_count": 14,
     "metadata": {},
     "output_type": "execute_result"
    }
   ],
   "source": [
    "df"
   ]
  },
  {
   "cell_type": "code",
   "execution_count": 15,
   "id": "3cd151cf",
   "metadata": {},
   "outputs": [
    {
     "data": {
      "text/plain": [
       "count    15000.000000\n",
       "mean        20.499389\n",
       "std         96.160362\n",
       "min         15.000010\n",
       "25%         15.274826\n",
       "50%         15.797986\n",
       "75%         17.279661\n",
       "max       7299.831375\n",
       "Name: delivery_min, dtype: float64"
      ]
     },
     "execution_count": 15,
     "metadata": {},
     "output_type": "execute_result"
    }
   ],
   "source": [
    "df[\"delivery_min\"].describe()"
   ]
  },
  {
   "cell_type": "code",
   "execution_count": 16,
   "id": "e100df54",
   "metadata": {},
   "outputs": [
    {
     "data": {
      "text/plain": [
       "20.49938932646778"
      ]
     },
     "execution_count": 16,
     "metadata": {},
     "output_type": "execute_result"
    }
   ],
   "source": [
    "df[\"delivery_min\"].mean()"
   ]
  },
  {
   "cell_type": "code",
   "execution_count": 17,
   "id": "92633a5e",
   "metadata": {},
   "outputs": [
    {
     "data": {
      "text/plain": [
       "15.797986066666668"
      ]
     },
     "execution_count": 17,
     "metadata": {},
     "output_type": "execute_result"
    }
   ],
   "source": [
    "df[\"delivery_min\"].median()"
   ]
  },
  {
   "cell_type": "code",
   "execution_count": 18,
   "id": "232f3338",
   "metadata": {},
   "outputs": [
    {
     "data": {
      "text/plain": [
       "15.000010333333334"
      ]
     },
     "execution_count": 18,
     "metadata": {},
     "output_type": "execute_result"
    }
   ],
   "source": [
    "df[\"delivery_min\"].min()"
   ]
  },
  {
   "cell_type": "code",
   "execution_count": 19,
   "id": "bb9d97ed",
   "metadata": {},
   "outputs": [
    {
     "data": {
      "text/plain": [
       "7299.831374933334"
      ]
     },
     "execution_count": 19,
     "metadata": {},
     "output_type": "execute_result"
    }
   ],
   "source": [
    "df[\"delivery_min\"].max()"
   ]
  },
  {
   "cell_type": "code",
   "execution_count": 20,
   "id": "15a2dbf1",
   "metadata": {},
   "outputs": [
    {
     "data": {
      "image/png": "[encoded data removed]",
      "text/plain": [
       "<Figure size 576x216 with 1 Axes>"
      ]
     },
     "metadata": {
      "needs_background": "light"
     },
     "output_type": "display_data"
    }
   ],
   "source": [
    "df.delivery_min.plot(kind='box', vert=False, figsize=(8,3));"
   ]
  },
  {
   "cell_type": "code",
   "execution_count": 21,
   "id": "41b847b2",
   "metadata": {},
   "outputs": [
    {
     "data": {
      "text/html": [
       "<div>\n",
       "<style scoped>\n",
       "    .dataframe tbody tr th:only-of-type {\n",
       "        vertical-align: middle;\n",
       "    }\n",
       "\n",
       "    .dataframe tbody tr th {\n",
       "        vertical-align: top;\n",
       "    }\n",
       "\n",
       "    .dataframe thead th {\n",
       "        text-align: right;\n",
       "    }\n",
       "</style>\n",
       "<table border=\"1\" class=\"dataframe\">\n",
       "  <thead>\n",
       "    <tr style=\"text-align: right;\">\n",
       "      <th></th>\n",
       "      <th>order_id</th>\n",
       "      <th>order_placed_at</th>\n",
       "      <th>order_delivered_at</th>\n",
       "      <th>day</th>\n",
       "      <th>date</th>\n",
       "      <th>month</th>\n",
       "      <th>year</th>\n",
       "      <th>time</th>\n",
       "      <th>delivery_min</th>\n",
       "      <th>time_period</th>\n",
       "    </tr>\n",
       "  </thead>\n",
       "  <tbody>\n",
       "    <tr>\n",
       "      <th>24</th>\n",
       "      <td>1523135</td>\n",
       "      <td>2023-03-01 01:11:53</td>\n",
       "      <td>2023-03-01 05:07:54.563978</td>\n",
       "      <td>Wednesday</td>\n",
       "      <td>1</td>\n",
       "      <td>March</td>\n",
       "      <td>2023</td>\n",
       "      <td>01:11:53</td>\n",
       "      <td>236.026066</td>\n",
       "      <td>10PM - 3AM</td>\n",
       "    </tr>\n",
       "    <tr>\n",
       "      <th>117</th>\n",
       "      <td>1523228</td>\n",
       "      <td>2023-03-01 04:59:04</td>\n",
       "      <td>2023-03-01 18:06:52.046891</td>\n",
       "      <td>Wednesday</td>\n",
       "      <td>1</td>\n",
       "      <td>March</td>\n",
       "      <td>2023</td>\n",
       "      <td>04:59:04</td>\n",
       "      <td>787.800782</td>\n",
       "      <td>10PM - 3AM</td>\n",
       "    </tr>\n",
       "    <tr>\n",
       "      <th>174</th>\n",
       "      <td>1523285</td>\n",
       "      <td>2023-03-01 07:22:11</td>\n",
       "      <td>2023-03-01 08:12:51.906470</td>\n",
       "      <td>Wednesday</td>\n",
       "      <td>1</td>\n",
       "      <td>March</td>\n",
       "      <td>2023</td>\n",
       "      <td>07:22:11</td>\n",
       "      <td>50.681775</td>\n",
       "      <td>4AM - 9AM</td>\n",
       "    </tr>\n",
       "    <tr>\n",
       "      <th>408</th>\n",
       "      <td>1523519</td>\n",
       "      <td>2023-03-01 18:05:17</td>\n",
       "      <td>2023-03-01 19:46:42.833697</td>\n",
       "      <td>Wednesday</td>\n",
       "      <td>1</td>\n",
       "      <td>March</td>\n",
       "      <td>2023</td>\n",
       "      <td>18:05:17</td>\n",
       "      <td>101.430562</td>\n",
       "      <td>4PM - 9PM</td>\n",
       "    </tr>\n",
       "    <tr>\n",
       "      <th>415</th>\n",
       "      <td>1523526</td>\n",
       "      <td>2023-03-01 18:39:52</td>\n",
       "      <td>2023-03-01 19:26:50.712489</td>\n",
       "      <td>Wednesday</td>\n",
       "      <td>1</td>\n",
       "      <td>March</td>\n",
       "      <td>2023</td>\n",
       "      <td>18:39:52</td>\n",
       "      <td>46.978541</td>\n",
       "      <td>4PM - 9PM</td>\n",
       "    </tr>\n",
       "    <tr>\n",
       "      <th>...</th>\n",
       "      <td>...</td>\n",
       "      <td>...</td>\n",
       "      <td>...</td>\n",
       "      <td>...</td>\n",
       "      <td>...</td>\n",
       "      <td>...</td>\n",
       "      <td>...</td>\n",
       "      <td>...</td>\n",
       "      <td>...</td>\n",
       "      <td>...</td>\n",
       "    </tr>\n",
       "    <tr>\n",
       "      <th>14593</th>\n",
       "      <td>1537704</td>\n",
       "      <td>2023-03-27 05:57:43</td>\n",
       "      <td>2023-03-27 07:01:35.117442</td>\n",
       "      <td>Monday</td>\n",
       "      <td>27</td>\n",
       "      <td>March</td>\n",
       "      <td>2023</td>\n",
       "      <td>05:57:43</td>\n",
       "      <td>63.868624</td>\n",
       "      <td>4AM - 9AM</td>\n",
       "    </tr>\n",
       "    <tr>\n",
       "      <th>14603</th>\n",
       "      <td>1537714</td>\n",
       "      <td>2023-03-27 06:32:17</td>\n",
       "      <td>2023-03-27 07:29:10.364276</td>\n",
       "      <td>Monday</td>\n",
       "      <td>27</td>\n",
       "      <td>March</td>\n",
       "      <td>2023</td>\n",
       "      <td>06:32:17</td>\n",
       "      <td>56.889405</td>\n",
       "      <td>4AM - 9AM</td>\n",
       "    </tr>\n",
       "    <tr>\n",
       "      <th>14741</th>\n",
       "      <td>1537852</td>\n",
       "      <td>2023-03-27 12:55:37</td>\n",
       "      <td>2023-03-27 13:52:53.206025</td>\n",
       "      <td>Monday</td>\n",
       "      <td>27</td>\n",
       "      <td>March</td>\n",
       "      <td>2023</td>\n",
       "      <td>12:55:37</td>\n",
       "      <td>57.270100</td>\n",
       "      <td>10AM - 3PM</td>\n",
       "    </tr>\n",
       "    <tr>\n",
       "      <th>14841</th>\n",
       "      <td>1537952</td>\n",
       "      <td>2023-03-27 16:42:37</td>\n",
       "      <td>2023-03-27 17:43:13.294744</td>\n",
       "      <td>Monday</td>\n",
       "      <td>27</td>\n",
       "      <td>March</td>\n",
       "      <td>2023</td>\n",
       "      <td>16:42:37</td>\n",
       "      <td>60.604912</td>\n",
       "      <td>10PM - 3AM</td>\n",
       "    </tr>\n",
       "    <tr>\n",
       "      <th>14953</th>\n",
       "      <td>1538064</td>\n",
       "      <td>2023-03-27 22:04:53</td>\n",
       "      <td>2023-03-27 22:55:03.230465</td>\n",
       "      <td>Monday</td>\n",
       "      <td>27</td>\n",
       "      <td>March</td>\n",
       "      <td>2023</td>\n",
       "      <td>22:04:53</td>\n",
       "      <td>50.170508</td>\n",
       "      <td>10PM - 3AM</td>\n",
       "    </tr>\n",
       "  </tbody>\n",
       "</table>\n",
       "<p>262 rows × 10 columns</p>\n",
       "</div>"
      ],
      "text/plain": [
       "       order_id     order_placed_at         order_delivered_at        day  \\\n",
       "24      1523135 2023-03-01 01:11:53 2023-03-01 05:07:54.563978  Wednesday   \n",
       "117     1523228 2023-03-01 04:59:04 2023-03-01 18:06:52.046891  Wednesday   \n",
       "174     1523285 2023-03-01 07:22:11 2023-03-01 08:12:51.906470  Wednesday   \n",
       "408     1523519 2023-03-01 18:05:17 2023-03-01 19:46:42.833697  Wednesday   \n",
       "415     1523526 2023-03-01 18:39:52 2023-03-01 19:26:50.712489  Wednesday   \n",
       "...         ...                 ...                        ...        ...   \n",
       "14593   1537704 2023-03-27 05:57:43 2023-03-27 07:01:35.117442     Monday   \n",
       "14603   1537714 2023-03-27 06:32:17 2023-03-27 07:29:10.364276     Monday   \n",
       "14741   1537852 2023-03-27 12:55:37 2023-03-27 13:52:53.206025     Monday   \n",
       "14841   1537952 2023-03-27 16:42:37 2023-03-27 17:43:13.294744     Monday   \n",
       "14953   1538064 2023-03-27 22:04:53 2023-03-27 22:55:03.230465     Monday   \n",
       "\n",
       "       date  month  year      time  delivery_min time_period  \n",
       "24        1  March  2023  01:11:53    236.026066  10PM - 3AM  \n",
       "117       1  March  2023  04:59:04    787.800782  10PM - 3AM  \n",
       "174       1  March  2023  07:22:11     50.681775   4AM - 9AM  \n",
       "408       1  March  2023  18:05:17    101.430562   4PM - 9PM  \n",
       "415       1  March  2023  18:39:52     46.978541   4PM - 9PM  \n",
       "...     ...    ...   ...       ...           ...         ...  \n",
       "14593    27  March  2023  05:57:43     63.868624   4AM - 9AM  \n",
       "14603    27  March  2023  06:32:17     56.889405   4AM - 9AM  \n",
       "14741    27  March  2023  12:55:37     57.270100  10AM - 3PM  \n",
       "14841    27  March  2023  16:42:37     60.604912  10PM - 3AM  \n",
       "14953    27  March  2023  22:04:53     50.170508  10PM - 3AM  \n",
       "\n",
       "[262 rows x 10 columns]"
      ]
     },
     "execution_count": 21,
     "metadata": {},
     "output_type": "execute_result"
    }
   ],
   "source": [
    "outliers = df[df.delivery_min >= 45]\n",
    "outliers"
   ]
  },
  {
   "cell_type": "code",
   "execution_count": 22,
   "id": "bc9f44fe",
   "metadata": {},
   "outputs": [],
   "source": [
    "clean_time = df[df.delivery_min <= 45]"
   ]
  },
  {
   "cell_type": "code",
   "execution_count": 23,
   "id": "da0c25da",
   "metadata": {},
   "outputs": [
    {
     "data": {
      "text/plain": [
       "17.1098624738092"
      ]
     },
     "execution_count": 23,
     "metadata": {},
     "output_type": "execute_result"
    }
   ],
   "source": [
    "clean_time[\"delivery_min\"].mean()"
   ]
  },
  {
   "cell_type": "code",
   "execution_count": 24,
   "id": "d9c337f7",
   "metadata": {},
   "outputs": [
    {
     "data": {
      "text/plain": [
       "15.770325641666666"
      ]
     },
     "execution_count": 24,
     "metadata": {},
     "output_type": "execute_result"
    }
   ],
   "source": [
    "clean_time[\"delivery_min\"].median()"
   ]
  },
  {
   "cell_type": "code",
   "execution_count": 25,
   "id": "e61ddbac",
   "metadata": {},
   "outputs": [
    {
     "data": {
      "text/plain": [
       "15.000010333333334"
      ]
     },
     "execution_count": 25,
     "metadata": {},
     "output_type": "execute_result"
    }
   ],
   "source": [
    "clean_time[\"delivery_min\"].min()"
   ]
  },
  {
   "cell_type": "code",
   "execution_count": 26,
   "id": "65ce0542",
   "metadata": {},
   "outputs": [
    {
     "data": {
      "text/plain": [
       "44.89911151666667"
      ]
     },
     "execution_count": 26,
     "metadata": {},
     "output_type": "execute_result"
    }
   ],
   "source": [
    "clean_time[\"delivery_min\"].max()"
   ]
  },
  {
   "cell_type": "code",
   "execution_count": 27,
   "id": "f3b0f745",
   "metadata": {},
   "outputs": [
    {
     "data": {
      "image/png": "[encoded data removed]",
      "text/plain": [
       "<Figure size 576x288 with 1 Axes>"
      ]
     },
     "metadata": {
      "needs_background": "light"
     },
     "output_type": "display_data"
    }
   ],
   "source": [
    "clean_time[\"delivery_min\"].plot(kind='hist', bins=90, figsize=(8,4));"
   ]
  },
  {
   "cell_type": "code",
   "execution_count": 28,
   "id": "bc68a597",
   "metadata": {},
   "outputs": [
    {
     "data": {
      "image/png": "[encoded data removed]",
      "text/plain": [
       "<Figure size 576x216 with 1 Axes>"
      ]
     },
     "metadata": {
      "needs_background": "light"
     },
     "output_type": "display_data"
    }
   ],
   "source": [
    "clean_time[\"delivery_min\"].plot(kind='box', vert=False, figsize=(8,3));"
   ]
  },
  {
   "cell_type": "code",
   "execution_count": 29,
   "id": "634191f5",
   "metadata": {},
   "outputs": [
    {
     "name": "stdout",
     "output_type": "stream",
     "text": [
      "Total late delivery After remove Outliers : 295\n"
     ]
    }
   ],
   "source": [
    "late_delivery = clean_time[clean_time[\"delivery_min\"] >= 31]\n",
    "print(\"Total late delivery After remove Outliers :\", late_delivery[\"delivery_min\"].count())"
   ]
  },
  {
   "cell_type": "code",
   "execution_count": 30,
   "id": "3f91d1c0",
   "metadata": {},
   "outputs": [
    {
     "name": "stdout",
     "output_type": "stream",
     "text": [
      "Total late delivery : 557\n"
     ]
    }
   ],
   "source": [
    "late_delivery = df[df[\"delivery_min\"] >= 31]\n",
    "print(\"Total late delivery :\", late_delivery[\"delivery_min\"].count())"
   ]
  },
  {
   "cell_type": "code",
   "execution_count": 31,
   "id": "e3ba5d73",
   "metadata": {},
   "outputs": [
    {
     "name": "stdout",
     "output_type": "stream",
     "text": [
      "Total on time delivery : 14443\n"
     ]
    }
   ],
   "source": [
    "tatal_delivery = df['delivery_min'].count() - late_delivery['delivery_min'].count() \n",
    "print(\"Total on time delivery :\", tatal_delivery)"
   ]
  },
  {
   "cell_type": "code",
   "execution_count": 32,
   "id": "efcd8890",
   "metadata": {},
   "outputs": [
    {
     "name": "stdout",
     "output_type": "stream",
     "text": [
      "Delivery performance in percentage: 96.28666666666666\n"
     ]
    }
   ],
   "source": [
    "print(\"Delivery performance in percentage:\", 14443 / 15000 * 100) "
   ]
  },
  {
   "cell_type": "code",
   "execution_count": 33,
   "id": "20132fae",
   "metadata": {},
   "outputs": [
    {
     "name": "stdout",
     "output_type": "stream",
     "text": [
      "95th percentile : 27.261043996666658\n"
     ]
    }
   ],
   "source": [
    "print(\"95th percentile :\", df['delivery_min'].quantile(0.95))"
   ]
  },
  {
   "cell_type": "code",
   "execution_count": 34,
   "id": "ece2ed47",
   "metadata": {},
   "outputs": [
    {
     "name": "stdout",
     "output_type": "stream",
     "text": [
      "Total Average Loss:  278500 RS\n"
     ]
    }
   ],
   "source": [
    "print(\"Total Average Loss: \", 557 * 500, \"RS\")"
   ]
  },
  {
   "cell_type": "markdown",
   "id": "dc98cf1f",
   "metadata": {},
   "source": [
    "# Obeservation:\n",
    "### Total 14443 Order 96.28 % of total order on time deleverd.\n",
    "### 95th percentile delivery time = 27.26 min\n",
    "### Domino's offers free delivery if the order is more than 31 minutes, thus the store's loss is Rs 278 500."
   ]
  },
  {
   "cell_type": "code",
   "execution_count": 35,
   "id": "8af64120",
   "metadata": {},
   "outputs": [
    {
     "data": {
      "text/plain": [
       "count        15000\n",
       "unique           7\n",
       "top       Thursday\n",
       "freq          2280\n",
       "Name: day, dtype: object"
      ]
     },
     "execution_count": 35,
     "metadata": {},
     "output_type": "execute_result"
    }
   ],
   "source": [
    "df[\"day\"].describe()"
   ]
  },
  {
   "cell_type": "code",
   "execution_count": 36,
   "id": "43282bf4",
   "metadata": {},
   "outputs": [
    {
     "data": {
      "text/plain": [
       "Thursday     2280\n",
       "Wednesday    2259\n",
       "Monday       2256\n",
       "Friday       2223\n",
       "Saturday     2209\n",
       "Sunday       2191\n",
       "Tuesday      1582\n",
       "Name: day, dtype: int64"
      ]
     },
     "execution_count": 36,
     "metadata": {},
     "output_type": "execute_result"
    }
   ],
   "source": [
    "df['day'].value_counts()"
   ]
  },
  {
   "cell_type": "code",
   "execution_count": 37,
   "id": "9ee5f92a",
   "metadata": {},
   "outputs": [
    {
     "data": {
      "image/png": "[encoded data removed]",
      "text/plain": [
       "<Figure size 576x288 with 1 Axes>"
      ]
     },
     "metadata": {
      "needs_background": "light"
     },
     "output_type": "display_data"
    }
   ],
   "source": [
    "df['day'].value_counts().plot(kind='bar', figsize=(8,4));"
   ]
  },
  {
   "cell_type": "code",
   "execution_count": 38,
   "id": "93d10e66",
   "metadata": {},
   "outputs": [
    {
     "data": {
      "image/png": "[encoded data removed]",
      "text/plain": [
       "<Figure size 576x288 with 1 Axes>"
      ]
     },
     "metadata": {
      "needs_background": "light"
     },
     "output_type": "display_data"
    }
   ],
   "source": [
    "df[['day', 'delivery_min']].groupby('day').mean().plot(kind='bar', figsize=(8,4));"
   ]
  },
  {
   "cell_type": "code",
   "execution_count": 39,
   "id": "886d35f0",
   "metadata": {},
   "outputs": [
    {
     "data": {
      "image/png": "[encoded data removed]",
      "text/plain": [
       "<Figure size 864x288 with 1 Axes>"
      ]
     },
     "metadata": {
      "needs_background": "light"
     },
     "output_type": "display_data"
    }
   ],
   "source": [
    "df['date'].value_counts().sort_index().plot(kind='line', figsize=(12, 4));"
   ]
  },
  {
   "cell_type": "code",
   "execution_count": 40,
   "id": "039ee7d1",
   "metadata": {},
   "outputs": [
    {
     "data": {
      "text/html": [
       "<div>\n",
       "<style scoped>\n",
       "    .dataframe tbody tr th:only-of-type {\n",
       "        vertical-align: middle;\n",
       "    }\n",
       "\n",
       "    .dataframe tbody tr th {\n",
       "        vertical-align: top;\n",
       "    }\n",
       "\n",
       "    .dataframe thead th {\n",
       "        text-align: right;\n",
       "    }\n",
       "</style>\n",
       "<table border=\"1\" class=\"dataframe\">\n",
       "  <thead>\n",
       "    <tr style=\"text-align: right;\">\n",
       "      <th>date</th>\n",
       "      <th>14</th>\n",
       "      <th>21</th>\n",
       "      <th>19</th>\n",
       "      <th>13</th>\n",
       "      <th>26</th>\n",
       "      <th>3</th>\n",
       "      <th>11</th>\n",
       "      <th>17</th>\n",
       "      <th>15</th>\n",
       "      <th>16</th>\n",
       "      <th>...</th>\n",
       "      <th>4</th>\n",
       "      <th>7</th>\n",
       "      <th>8</th>\n",
       "      <th>6</th>\n",
       "      <th>12</th>\n",
       "      <th>23</th>\n",
       "      <th>10</th>\n",
       "      <th>2</th>\n",
       "      <th>22</th>\n",
       "      <th>20</th>\n",
       "    </tr>\n",
       "  </thead>\n",
       "  <tbody>\n",
       "    <tr>\n",
       "      <th>order_id</th>\n",
       "      <td>492</td>\n",
       "      <td>520</td>\n",
       "      <td>526</td>\n",
       "      <td>526</td>\n",
       "      <td>532</td>\n",
       "      <td>534</td>\n",
       "      <td>536</td>\n",
       "      <td>537</td>\n",
       "      <td>540</td>\n",
       "      <td>545</td>\n",
       "      <td>...</td>\n",
       "      <td>567</td>\n",
       "      <td>570</td>\n",
       "      <td>578</td>\n",
       "      <td>582</td>\n",
       "      <td>582</td>\n",
       "      <td>583</td>\n",
       "      <td>587</td>\n",
       "      <td>588</td>\n",
       "      <td>591</td>\n",
       "      <td>597</td>\n",
       "    </tr>\n",
       "  </tbody>\n",
       "</table>\n",
       "<p>1 rows × 27 columns</p>\n",
       "</div>"
      ],
      "text/plain": [
       "date       14   21   19   13   26   3    11   17   15   16  ...   4    7   \\\n",
       "order_id  492  520  526  526  532  534  536  537  540  545  ...  567  570   \n",
       "\n",
       "date       8    6    12   23   10   2    22   20  \n",
       "order_id  578  582  582  583  587  588  591  597  \n",
       "\n",
       "[1 rows x 27 columns]"
      ]
     },
     "execution_count": 40,
     "metadata": {},
     "output_type": "execute_result"
    }
   ],
   "source": [
    "df[['date', 'order_id']].groupby('date').count().sort_values(by='order_id').T"
   ]
  },
  {
   "cell_type": "code",
   "execution_count": 41,
   "id": "7185cd70",
   "metadata": {},
   "outputs": [
    {
     "data": {
      "image/png": "[encoded data removed]",
      "text/plain": [
       "<Figure size 648x432 with 1 Axes>"
      ]
     },
     "metadata": {
      "needs_background": "light"
     },
     "output_type": "display_data"
    }
   ],
   "source": [
    "df[['date', 'order_id']].groupby('date').count().plot(kind='barh', legend=None, figsize=(9,6));"
   ]
  },
  {
   "cell_type": "code",
   "execution_count": 42,
   "id": "bded149a",
   "metadata": {},
   "outputs": [
    {
     "data": {
      "text/html": [
       "<div>\n",
       "<style scoped>\n",
       "    .dataframe tbody tr th:only-of-type {\n",
       "        vertical-align: middle;\n",
       "    }\n",
       "\n",
       "    .dataframe tbody tr th {\n",
       "        vertical-align: top;\n",
       "    }\n",
       "\n",
       "    .dataframe thead th {\n",
       "        text-align: right;\n",
       "    }\n",
       "</style>\n",
       "<table border=\"1\" class=\"dataframe\">\n",
       "  <thead>\n",
       "    <tr style=\"text-align: right;\">\n",
       "      <th></th>\n",
       "      <th>count</th>\n",
       "      <th>mean</th>\n",
       "      <th>std</th>\n",
       "      <th>min</th>\n",
       "      <th>25%</th>\n",
       "      <th>50%</th>\n",
       "      <th>75%</th>\n",
       "      <th>max</th>\n",
       "    </tr>\n",
       "  </thead>\n",
       "  <tbody>\n",
       "    <tr>\n",
       "      <th>order_id</th>\n",
       "      <td>27.0</td>\n",
       "      <td>555.555556</td>\n",
       "      <td>25.927908</td>\n",
       "      <td>492.0</td>\n",
       "      <td>536.5</td>\n",
       "      <td>551.0</td>\n",
       "      <td>580.0</td>\n",
       "      <td>597.0</td>\n",
       "    </tr>\n",
       "  </tbody>\n",
       "</table>\n",
       "</div>"
      ],
      "text/plain": [
       "          count        mean        std    min    25%    50%    75%    max\n",
       "order_id   27.0  555.555556  25.927908  492.0  536.5  551.0  580.0  597.0"
      ]
     },
     "execution_count": 42,
     "metadata": {},
     "output_type": "execute_result"
    }
   ],
   "source": [
    "df[['date', 'order_id']].groupby('date').count().sort_values(by='order_id').describe().T"
   ]
  },
  {
   "cell_type": "code",
   "execution_count": 43,
   "id": "f8fa98f5",
   "metadata": {},
   "outputs": [
    {
     "data": {
      "text/plain": [
       "10PM - 3AM    5655\n",
       "10AM - 3PM    3135\n",
       "4PM - 9PM     3115\n",
       "4AM - 9AM     3095\n",
       "Name: time_period, dtype: int64"
      ]
     },
     "execution_count": 43,
     "metadata": {},
     "output_type": "execute_result"
    }
   ],
   "source": [
    "df['time_period'].value_counts()"
   ]
  },
  {
   "cell_type": "code",
   "execution_count": 44,
   "id": "edb4c8a7",
   "metadata": {},
   "outputs": [
    {
     "data": {
      "image/png": "[encoded data removed]",
      "text/plain": [
       "<Figure size 576x288 with 1 Axes>"
      ]
     },
     "metadata": {
      "needs_background": "light"
     },
     "output_type": "display_data"
    }
   ],
   "source": [
    "df['time_period'].value_counts().plot(kind='bar', figsize=(8,4));"
   ]
  },
  {
   "cell_type": "code",
   "execution_count": 45,
   "id": "3948848c",
   "metadata": {},
   "outputs": [],
   "source": [
    "df['time_hours'] = df['order_placed_at'].apply(lambda x: x.hour)"
   ]
  },
  {
   "cell_type": "code",
   "execution_count": 46,
   "id": "52c810c0",
   "metadata": {},
   "outputs": [
    {
     "data": {
      "text/plain": [
       "23    673\n",
       "6     658\n",
       "22    655\n",
       "11    655\n",
       "5     641\n",
       "Name: time_hours, dtype: int64"
      ]
     },
     "execution_count": 46,
     "metadata": {},
     "output_type": "execute_result"
    }
   ],
   "source": [
    "df['time_hours'].value_counts().head(5)"
   ]
  },
  {
   "cell_type": "code",
   "execution_count": 47,
   "id": "9b0d5e26",
   "metadata": {},
   "outputs": [
    {
     "data": {
      "image/png": "[encoded data removed]",
      "text/plain": [
       "<Figure size 864x288 with 1 Axes>"
      ]
     },
     "metadata": {
      "needs_background": "light"
     },
     "output_type": "display_data"
    }
   ],
   "source": [
    "df['time_hours'].value_counts().sort_index().plot(kind='line', figsize=(12, 4));"
   ]
  },
  {
   "cell_type": "markdown",
   "id": "33af7cb0",
   "metadata": {},
   "source": [
    "Final Report:\n",
    "1. Average daily Transaction is = 555\n",
    "2. High Transaction = 597 (20th March)\n",
    "3. Low Transaction = 492 (14th March)\n",
    "4. More order in time = 4-5AM, 11AM and 10-11PM\n",
    "5. Highest Transaction on Thursday\n",
    "6. Lowest Transaction on Tuesday\n",
    "7. 96.28% on time delivery remaining is failed to on time delivery\n",
    "8. Average delivery time 17.10 min (After removing outliers)\n",
    "9. 95th percentile of delivery time : 27.26 min\n",
    "Domino's offers free delivery if the order is more than 31 minutes, thus the store's loss is Rs 2,78,500"
   ]
  }
 ],
 "metadata": {
  "kernelspec": {
   "display_name": "Python 3 (ipykernel)",
   "language": "python",
   "name": "python3"
  },
  "language_info": {
   "codemirror_mode": {
    "name": "ipython",
    "version": 3
   },
   "file_extension": ".py",
   "mimetype": "text/x-python",
   "name": "python",
   "nbconvert_exporter": "python",
   "pygments_lexer": "ipython3",
   "version": "3.9.6"
  }
 },
 "nbformat": 4,
 "nbformat_minor": 5
}
