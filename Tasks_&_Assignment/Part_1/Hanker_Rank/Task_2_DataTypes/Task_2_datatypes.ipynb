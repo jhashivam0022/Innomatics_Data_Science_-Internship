{
 "cells": [
  {
   "cell_type": "markdown",
   "id": "b77b9d04",
   "metadata": {},
   "source": [
    "## Programming Task - 2 Data Types\n"
   ]
  },
  {
   "cell_type": "code",
   "execution_count": 2,
   "id": "53037605",
   "metadata": {},
   "outputs": [
    {
     "name": "stdout",
     "output_type": "stream",
     "text": [
      "5\n",
      "5\n",
      "5\n",
      "5\n",
      "[[0, 0, 0], [0, 0, 1], [0, 0, 2], [0, 0, 3], [0, 0, 4], [0, 1, 0], [0, 1, 1], [0, 1, 2], [0, 1, 3], [0, 1, 5], [0, 2, 0], [0, 2, 1], [0, 2, 2], [0, 2, 4], [0, 2, 5], [0, 3, 0], [0, 3, 1], [0, 3, 3], [0, 3, 4], [0, 3, 5], [0, 4, 0], [0, 4, 2], [0, 4, 3], [0, 4, 4], [0, 4, 5], [0, 5, 1], [0, 5, 2], [0, 5, 3], [0, 5, 4], [0, 5, 5], [1, 0, 0], [1, 0, 1], [1, 0, 2], [1, 0, 3], [1, 0, 5], [1, 1, 0], [1, 1, 1], [1, 1, 2], [1, 1, 4], [1, 1, 5], [1, 2, 0], [1, 2, 1], [1, 2, 3], [1, 2, 4], [1, 2, 5], [1, 3, 0], [1, 3, 2], [1, 3, 3], [1, 3, 4], [1, 3, 5], [1, 4, 1], [1, 4, 2], [1, 4, 3], [1, 4, 4], [1, 4, 5], [1, 5, 0], [1, 5, 1], [1, 5, 2], [1, 5, 3], [1, 5, 4], [1, 5, 5], [2, 0, 0], [2, 0, 1], [2, 0, 2], [2, 0, 4], [2, 0, 5], [2, 1, 0], [2, 1, 1], [2, 1, 3], [2, 1, 4], [2, 1, 5], [2, 2, 0], [2, 2, 2], [2, 2, 3], [2, 2, 4], [2, 2, 5], [2, 3, 1], [2, 3, 2], [2, 3, 3], [2, 3, 4], [2, 3, 5], [2, 4, 0], [2, 4, 1], [2, 4, 2], [2, 4, 3], [2, 4, 4], [2, 4, 5], [2, 5, 0], [2, 5, 1], [2, 5, 2], [2, 5, 3], [2, 5, 4], [2, 5, 5], [3, 0, 0], [3, 0, 1], [3, 0, 3], [3, 0, 4], [3, 0, 5], [3, 1, 0], [3, 1, 2], [3, 1, 3], [3, 1, 4], [3, 1, 5], [3, 2, 1], [3, 2, 2], [3, 2, 3], [3, 2, 4], [3, 2, 5], [3, 3, 0], [3, 3, 1], [3, 3, 2], [3, 3, 3], [3, 3, 4], [3, 3, 5], [3, 4, 0], [3, 4, 1], [3, 4, 2], [3, 4, 3], [3, 4, 4], [3, 4, 5], [3, 5, 0], [3, 5, 1], [3, 5, 2], [3, 5, 3], [3, 5, 4], [3, 5, 5], [4, 0, 0], [4, 0, 2], [4, 0, 3], [4, 0, 4], [4, 0, 5], [4, 1, 1], [4, 1, 2], [4, 1, 3], [4, 1, 4], [4, 1, 5], [4, 2, 0], [4, 2, 1], [4, 2, 2], [4, 2, 3], [4, 2, 4], [4, 2, 5], [4, 3, 0], [4, 3, 1], [4, 3, 2], [4, 3, 3], [4, 3, 4], [4, 3, 5], [4, 4, 0], [4, 4, 1], [4, 4, 2], [4, 4, 3], [4, 4, 4], [4, 4, 5], [4, 5, 0], [4, 5, 1], [4, 5, 2], [4, 5, 3], [4, 5, 4], [4, 5, 5], [5, 0, 1], [5, 0, 2], [5, 0, 3], [5, 0, 4], [5, 0, 5], [5, 1, 0], [5, 1, 1], [5, 1, 2], [5, 1, 3], [5, 1, 4], [5, 1, 5], [5, 2, 0], [5, 2, 1], [5, 2, 2], [5, 2, 3], [5, 2, 4], [5, 2, 5], [5, 3, 0], [5, 3, 1], [5, 3, 2], [5, 3, 3], [5, 3, 4], [5, 3, 5], [5, 4, 0], [5, 4, 1], [5, 4, 2], [5, 4, 3], [5, 4, 4], [5, 4, 5], [5, 5, 0], [5, 5, 1], [5, 5, 2], [5, 5, 3], [5, 5, 4], [5, 5, 5]]\n"
     ]
    }
   ],
   "source": [
    "#list Compression\n",
    "if __name__ == '__main__':\n",
    "    x = int(input())\n",
    "    y = int(input())\n",
    "    z = int(input())\n",
    "    n = int(input())\n",
    "    l=list()\n",
    "    for i in range(x+1):\n",
    "        for j in range(y+1):\n",
    "            for k in range(z+1):\n",
    "                if(i+j+k!=n):\n",
    "                    l.append([i,j,k])\n",
    "    print(l)\n"
   ]
  },
  {
   "cell_type": "code",
   "execution_count": null,
   "id": "db0e7328",
   "metadata": {},
   "outputs": [],
   "source": [
    "# find the runner up score\n",
    "\n",
    "if __name__ == '__main__':\n",
    "    n = int(raw_input())\n",
    "    arr = list(set(map(int, raw_input().split())))\n",
    "    arr.sort()\n",
    "    print arr[-2]\n"
   ]
  },
  {
   "cell_type": "code",
   "execution_count": null,
   "id": "4b2a7804",
   "metadata": {},
   "outputs": [],
   "source": [
    "#Nested List\n",
    "\n",
    "\n",
    "if __name__ == '__main__':\n",
    "    dic={}\n",
    "    s=list()\n",
    "    for _ in range(int(input())):\n",
    "        name = input()\n",
    "        score = float(input())\n",
    "        if score in dic:\n",
    "            dic[score].append(name)\n",
    "        else:\n",
    "            dic[score]=[name]\n",
    "        if score not in s:\n",
    "            s.append(score)\n",
    "    m=min(s)\n",
    "    s.remove(m)\n",
    "    m1=min(s)  \n",
    "    dic[m1].sort()          \n",
    "    for i in dic[m1]:\n",
    "        print(i)    \n"
   ]
  },
  {
   "cell_type": "code",
   "execution_count": null,
   "id": "316df1f7",
   "metadata": {},
   "outputs": [],
   "source": [
    "#finding the percentage\n",
    "\n",
    "if __name__ == '__main__':\n",
    "    n = int(raw_input())\n",
    "    student_marks = {}\n",
    "    for _ in range(n):\n",
    "        line = raw_input().split()\n",
    "        name, scores = line[0], line[1:]\n",
    "        scores = map(float, scores)\n",
    "        student_marks[name] = scores\n",
    "    query_name = raw_input()\n",
    "    s=0\n",
    "    for i in student_marks[query_name]:\n",
    "        s+=i\n",
    "    print(\"{0:.2f}\".format(s/3))     \n"
   ]
  },
  {
   "cell_type": "code",
   "execution_count": null,
   "id": "8370107d",
   "metadata": {},
   "outputs": [],
   "source": [
    "# List\n",
    "\n",
    "if __name__ == '__main__':\n",
    "    N = int(input())\n",
    "    arr=[]\n",
    "    for i in range(N):\n",
    "        s=input().split()\n",
    "        for i in range(1,len(s)):\n",
    "            s[i]=int(s[i])\n",
    "        if s[0]==\"append\":\n",
    "            arr.append(s[1])\n",
    "        elif s[0]==\"insert\":\n",
    "            arr.insert(s[1],s[2])\n",
    "        elif s[0]==\"remove\":\n",
    "            arr.remove(s[1])\n",
    "        elif s[0]==\"pop\":\n",
    "            arr.pop()\n",
    "        elif s[0]==\"sort\":\n",
    "            arr.sort()\n",
    "        elif s[0]==\"reverse\":\n",
    "            arr.reverse()            \n",
    "        elif s[0]==\"print\":\n",
    "            print(arr)\n"
   ]
  },
  {
   "cell_type": "code",
   "execution_count": null,
   "id": "d756963d",
   "metadata": {},
   "outputs": [],
   "source": [
    "# tuples\n",
    "\n",
    "if __name__ == '__main__':\n",
    "    \n",
    "    n = int(input())\n",
    "    integer_list = map(int, input().split())"
   ]
  },
  {
   "cell_type": "code",
   "execution_count": null,
   "id": "58033a66",
   "metadata": {},
   "outputs": [],
   "source": [
    "# introduction to sets\n",
    "\n",
    "def average(array):\n",
    "    return sum(set(array))/len(set(array))\n",
    "    "
   ]
  },
  {
   "cell_type": "code",
   "execution_count": null,
   "id": "b36cacb8",
   "metadata": {},
   "outputs": [],
   "source": [
    "# no_idea\n",
    "\n",
    "if __name__ == \"__main__\":\n",
    "    \n",
    "    happiness = 0\n",
    "    n, m = map(int, input().strip().split(' '))\n",
    "    arr = list(map(int, input().strip().split(' ')))\n",
    "    \n",
    "    good = set(map(int, input().strip().split(' ')))\n",
    "    bad = set(map(int, input().strip().split(' ')))\n",
    "    \n",
    "    for i in arr:\n",
    "        if i in good:\n",
    "            happiness += 1\n",
    "        elif i in bad:\n",
    "            happiness -= 1\n",
    "    print(happiness)"
   ]
  },
  {
   "cell_type": "code",
   "execution_count": null,
   "id": "84b3c3eb",
   "metadata": {},
   "outputs": [],
   "source": [
    "# symmetric_difference\n",
    "\n",
    "if __name__ == \"__main__\":\n",
    "    \n",
    "    M = int(input().strip())\n",
    "    set_m = set(map(int, input().strip().split(' ')))\n",
    "    \n",
    "    N = int(input().strip())\n",
    "    set_n = set(map(int, input().strip().split(' ')))\n",
    "    \n",
    "    for j in sorted(set_m ^ set_n):\n",
    "        print(j)"
   ]
  },
  {
   "cell_type": "code",
   "execution_count": null,
   "id": "7ad1e99e",
   "metadata": {},
   "outputs": [],
   "source": [
    "# set_add()\n",
    "\n",
    "n = int(input())\n",
    "names = set([])\n",
    "for i in range(n):\n",
    "    names.add(input())\n",
    "print(len(names))"
   ]
  },
  {
   "cell_type": "code",
   "execution_count": null,
   "id": "b867c60b",
   "metadata": {},
   "outputs": [],
   "source": [
    "# set.discard(), .remove(), .discard\n",
    "\n",
    "n = int(input())\n",
    "s = set(map(int, input().split()))\n",
    "lst =[]\n",
    "n1 = int(input())\n",
    "for i in range(n1):\n",
    "    lst.append(input().split())\n",
    "for i in range(n1):\n",
    "    if lst[i][0] ==\"pop\":\n",
    "        s.pop()\n",
    "    if lst[i][0] ==\"remove\":\n",
    "        s.remove(int(lst[i][1]))\n",
    "    if lst[i][0] ==\"discard\":\n",
    "        s.discard(int(lst[i][1]))\n",
    "print(sum(s))"
   ]
  },
  {
   "cell_type": "code",
   "execution_count": null,
   "id": "9cbd2ddd",
   "metadata": {},
   "outputs": [],
   "source": [
    "#set.union()\n",
    "\n",
    "a = int(input())\n",
    "SET_N = set(map(int, input().split()))\n",
    "\n",
    "b= int(input())\n",
    "SET_B = set(map(int, input().split()))\n",
    "\n",
    "NEW_SET = SET_N.union(SET_B)\n",
    "print(len(NEW_SET))"
   ]
  },
  {
   "cell_type": "code",
   "execution_count": null,
   "id": "cac32c51",
   "metadata": {},
   "outputs": [],
   "source": [
    "#set.intersection()\n",
    "\n",
    "a= int(input())\n",
    "SET_N = set(map(int, input().split()))\n",
    "\n",
    "b = int(input())\n",
    "SET_B = set(map(int, input().split()))\n",
    "\n",
    "print(len(SET_N & SET_B))"
   ]
  },
  {
   "cell_type": "code",
   "execution_count": null,
   "id": "a5d504ad",
   "metadata": {},
   "outputs": [],
   "source": [
    "#set.difference()\n",
    "\n",
    "a = int(input())\n",
    "SET_N = set(map(int, input().split()))\n",
    "\n",
    "b = int(input())\n",
    "SET_B = set(map(int, input().split()))\n",
    "\n",
    "NEW_SET = SET_N.difference(SET_B)\n",
    "print(len(NEW_SET))"
   ]
  },
  {
   "cell_type": "code",
   "execution_count": null,
   "id": "8d0fed14",
   "metadata": {},
   "outputs": [],
   "source": [
    "# Set symmetric_difference() operation\n",
    "\n",
    "a = int(input())\n",
    "SET_N = set(map(int, input().split()))\n",
    "\n",
    "b = int(input())\n",
    "SET_B = set(map(int, input().split()))\n",
    "\n",
    "print(len(SET_N.symmetric_difference(SET_B)))"
   ]
  },
  {
   "cell_type": "code",
   "execution_count": null,
   "id": "fa6f6cfd",
   "metadata": {},
   "outputs": [],
   "source": [
    "# Set mutations\n",
    "\n",
    "\n",
    "A = int(input())\n",
    "SET_A = set(map(int, input().split()))\n",
    "N = int(input())\n",
    "\n",
    "for _ in range(N):\n",
    "    operation = input().split()\n",
    "    new_set = set(map(int, input().split()))\n",
    "    eval('SET_A.{}({})'.format(operation[0], new_set))\n",
    "\n",
    "print(sum(SET_A))"
   ]
  },
  {
   "cell_type": "code",
   "execution_count": null,
   "id": "68a9c7fb",
   "metadata": {},
   "outputs": [],
   "source": [
    "# The captain's_room\n",
    "\n",
    "\n",
    "N = input()\n",
    "ROOM_LIST = input().split()\n",
    "ROOM_SET = set(ROOM_LIST)\n",
    "\n",
    "for ele in list(ROOM_SET):\n",
    "    ROOM_LIST.remove(ele)\n",
    "\n",
    "CAPTAIN_ROOM_NUM = ROOM_SET.difference(set(ROOM_LIST)).pop()\n",
    "print(CAPTAIN_ROOM_NUM)"
   ]
  },
  {
   "cell_type": "code",
   "execution_count": null,
   "id": "248e7b78",
   "metadata": {},
   "outputs": [],
   "source": [
    "# check subset\n",
    "\n",
    "\n",
    "for i in range(int(input())):\n",
    "    a = int(input())\n",
    "    set_a = set(map(int, input().split()))\n",
    "\n",
    "    b = int(input())\n",
    "    set_b = set(map(int, input().split()))\n",
    "\n",
    "    if len(set_a - set_b) == 0:\n",
    "        print(\"True\")\n",
    "    else:\n",
    "        print(\"False\")"
   ]
  },
  {
   "cell_type": "code",
   "execution_count": null,
   "id": "ee3e5cce",
   "metadata": {},
   "outputs": [],
   "source": [
    "# check_strict_Superset\n",
    "\n",
    "\n",
    "A = set(input().split())\n",
    "COUNT = 0\n",
    "VALUE = 0\n",
    "\n",
    "for i in range(int(input())):\n",
    "    if A.issuperset(set(input().split())):\n",
    "        COUNT += 1\n",
    "    else:\n",
    "        VALUE += 1\n",
    "if VALUE != 0:\n",
    "    print('False')\n",
    "else:\n",
    "    print('True')"
   ]
  }
 ],
 "metadata": {
  "kernelspec": {
   "display_name": "Python 3 (ipykernel)",
   "language": "python",
   "name": "python3"
  },
  "language_info": {
   "codemirror_mode": {
    "name": "ipython",
    "version": 3
   },
   "file_extension": ".py",
   "mimetype": "text/x-python",
   "name": "python",
   "nbconvert_exporter": "python",
   "pygments_lexer": "ipython3",
   "version": "3.9.6"
  }
 },
 "nbformat": 4,
 "nbformat_minor": 5
}
